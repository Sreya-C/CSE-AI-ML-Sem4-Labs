{
 "cells": [
  {
   "cell_type": "code",
   "execution_count": 28,
   "id": "5a467f03",
   "metadata": {},
   "outputs": [],
   "source": [
    "mat = [[0,1,1,0],[0,0,3,0],[0,0,0,4],[5,0,0,0]]\n",
    "    \n",
    "    \n",
    "    \n",
    "    "
   ]
  },
  {
   "cell_type": "code",
   "execution_count": 32,
   "id": "103d85b8",
   "metadata": {},
   "outputs": [
    {
     "name": "stdout",
     "output_type": "stream",
     "text": [
      "[[1, 1, 2], [1, 3, 1], [2, 3, 3], [3, 4, 4], [4, 1, 5]]\n",
      "{1: [[2, 1], [3, 1]], 2: [[3, 3]], 3: [[4, 4]], 4: [[5, 1]]}\n",
      "None\n",
      "[[0, 1, 1, 0], [0, 0, 3, 0], [0, 0, 0, 4], [5, 0, 0, 0]]\n"
     ]
    }
   ],
   "source": [
    "def addEdge(adj, u, v, wt):\n",
    "    adj.append([u,v,wt])\n",
    "    \n",
    "def adjList(edges):\n",
    "    gdict = {}\n",
    "    for i in edges:\n",
    "        if i[0] in gdict:\n",
    "            gdict[i[0]].append([i[1],i[2]])\n",
    "        else:\n",
    "            gdict[i[0]] = [[i[2],i[1]]]\n",
    "    return gdict\n",
    "\n",
    "def adjMat(edges):\n",
    "    dict = adjList(edges)\n",
    "    mat = [[]]\n",
    "    for i in range(len(dict)-1):\n",
    "        for j in range(len(dict)):\n",
    "            for x in edges:\n",
    "                if x[0]==i and x[2]==j:\n",
    "                    pass\n",
    "if __name__ == \"__main__\":\n",
    "    edges = []\n",
    "    addEdge(edges,1,1,2)\n",
    "    addEdge(edges,1,3,1)\n",
    "    addEdge(edges,2,3,3)\n",
    "    addEdge(edges,3,4,4)\n",
    "    addEdge(edges,4,1,5)\n",
    "    print(edges)\n",
    "    print(adjList(edges))\n",
    "    print(adjMat(edges))\n",
    "    print(mat)"
   ]
  },
  {
   "cell_type": "code",
   "execution_count": null,
   "id": "c0a2e738",
   "metadata": {},
   "outputs": [],
   "source": []
  }
 ],
 "metadata": {
  "kernelspec": {
   "display_name": "Python 3 (ipykernel)",
   "language": "python",
   "name": "python3"
  },
  "language_info": {
   "codemirror_mode": {
    "name": "ipython",
    "version": 3
   },
   "file_extension": ".py",
   "mimetype": "text/x-python",
   "name": "python",
   "nbconvert_exporter": "python",
   "pygments_lexer": "ipython3",
   "version": "3.10.6"
  }
 },
 "nbformat": 4,
 "nbformat_minor": 5
}
