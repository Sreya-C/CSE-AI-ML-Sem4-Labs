{
 "cells": [
  {
   "cell_type": "code",
   "execution_count": 12,
   "id": "a4010354",
   "metadata": {},
   "outputs": [
    {
     "name": "stdout",
     "output_type": "stream",
     "text": [
      "solution: (0, 2, 4, 1, 3)\n",
      "solution: (0, 3, 1, 4, 2)\n",
      "solution: (1, 3, 0, 2, 4)\n",
      "solution: (1, 4, 2, 0, 3)\n",
      "solution: (2, 0, 3, 1, 4)\n",
      "solution: (2, 4, 1, 3, 0)\n",
      "solution: (3, 0, 2, 4, 1)\n",
      "solution: (3, 1, 4, 2, 0)\n",
      "solution: (4, 1, 3, 0, 2)\n",
      "solution: (4, 2, 0, 3, 1)\n"
     ]
    }
   ],
   "source": [
    "from queue import Queue\n",
    "\n",
    "def is_valid(board, row, col):\n",
    "    # Check if a queen can be placed at given row, col on the board\n",
    "    for r, c in enumerate(board):\n",
    "        if c == col or r + c == row + col or r - c == row - col: #same column, or same diagonal\n",
    "            return False\n",
    "    return True\n",
    "\n",
    "def bfs():\n",
    "    q = Queue()\n",
    "    q.put(())\n",
    "    while not q.empty():\n",
    "        board = q.get()\n",
    "        if len(board) == 5:\n",
    "            yield board\n",
    "            continue\n",
    "        for col in range(5):\n",
    "            if col not in board and is_valid(board, len(board), col):\n",
    "                q.put(board + (col,))\n",
    "\n",
    "for i, solution in enumerate(bfs()):\n",
    "    print(\"solution:\", solution)"
   ]
  },
  {
   "cell_type": "code",
   "execution_count": null,
   "id": "7a8a5908",
   "metadata": {},
   "outputs": [],
   "source": []
  }
 ],
 "metadata": {
  "kernelspec": {
   "display_name": "Python 3 (ipykernel)",
   "language": "python",
   "name": "python3"
  },
  "language_info": {
   "codemirror_mode": {
    "name": "ipython",
    "version": 3
   },
   "file_extension": ".py",
   "mimetype": "text/x-python",
   "name": "python",
   "nbconvert_exporter": "python",
   "pygments_lexer": "ipython3",
   "version": "3.10.6"
  }
 },
 "nbformat": 4,
 "nbformat_minor": 5
}
